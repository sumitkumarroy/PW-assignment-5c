{
 "cells": [
  {
   "cell_type": "code",
   "execution_count": 1,
   "id": "8b46f0f5",
   "metadata": {},
   "outputs": [
    {
     "data": {
      "text/plain": [
       "'\\nMultiprocessing in Python refers to the ability of a program to execute multiple processes concurrently, taking advantage of \\nmultiple CPU cores to perform tasks simultaneously. It allows for parallelism, which can significantly improve the performance\\nof certain types of applications, particularly those that involve intensive computation or tasks that can be easily divided \\ninto independent subtasks.\\n'"
      ]
     },
     "execution_count": 1,
     "metadata": {},
     "output_type": "execute_result"
    }
   ],
   "source": [
    "# 1 \n",
    "'''\n",
    "Multiprocessing in Python refers to the ability of a program to execute multiple processes concurrently, taking advantage of \n",
    "multiple CPU cores to perform tasks simultaneously. It allows for parallelism, which can significantly improve the performance\n",
    "of certain types of applications, particularly those that involve intensive computation or tasks that can be easily divided \n",
    "into independent subtasks.\n",
    "'''"
   ]
  },
  {
   "cell_type": "code",
   "execution_count": 2,
   "id": "50453952",
   "metadata": {},
   "outputs": [
    {
     "data": {
      "text/plain": [
       "'\\nMultiprocessing involves the creation of multiple independent processes, each with its own memory space and Python interpreter.\\nProcesses run in separate memory spaces, making them more isolated from each other.\\n\\nMultithreading involves the creation of multiple threads within a single process.\\nThreads share the same memory space and can access shared data structures directly.\\n'"
      ]
     },
     "execution_count": 2,
     "metadata": {},
     "output_type": "execute_result"
    }
   ],
   "source": [
    "# 2 \n",
    "'''\n",
    "Multiprocessing involves the creation of multiple independent processes, each with its own memory space and Python interpreter.\n",
    "Processes run in separate memory spaces, making them more isolated from each other.\n",
    "\n",
    "Multithreading involves the creation of multiple threads within a single process.\n",
    "Threads share the same memory space and can access shared data structures directly.\n",
    "'''"
   ]
  },
  {
   "cell_type": "code",
   "execution_count": 3,
   "id": "f4e57824",
   "metadata": {},
   "outputs": [
    {
     "name": "stdout",
     "output_type": "stream",
     "text": [
      "Main process continues running.\n"
     ]
    }
   ],
   "source": [
    "# 3\n",
    "import multiprocessing\n",
    "\n",
    "def print_square(number):\n",
    "    result = number * number\n",
    "    print(f\"The square of {number} is {result}\")\n",
    "\n",
    "if __name__ == \"__main__\":\n",
    "    process = multiprocessing.Process(target=print_square, args=(5,))\n",
    "\n",
    "    process.start()\n",
    "    process.join()\n",
    "\n",
    "    print(\"Main process continues running.\")\n"
   ]
  },
  {
   "cell_type": "code",
   "execution_count": 4,
   "id": "42b4a780",
   "metadata": {},
   "outputs": [
    {
     "data": {
      "text/plain": [
       "'\\na multiprocessing pool is a part of the multiprocessing module that provides a convenient way to parallelize the execution of\\na function across multiple input values. It enables the distribution of workload among multiple processes, taking advantage of\\nmulticore processors to improve performance. The primary class for creating a pool of worker processes is multiprocessing.Pool.\\n'"
      ]
     },
     "execution_count": 4,
     "metadata": {},
     "output_type": "execute_result"
    }
   ],
   "source": [
    "# 4\n",
    "'''\n",
    "a multiprocessing pool is a part of the multiprocessing module that provides a convenient way to parallelize the execution of\n",
    "a function across multiple input values. It enables the distribution of workload among multiple processes, taking advantage of\n",
    "multicore processors to improve performance. The primary class for creating a pool of worker processes is multiprocessing.Pool.\n",
    "'''"
   ]
  },
  {
   "cell_type": "code",
   "execution_count": null,
   "id": "ca3bfc9d",
   "metadata": {},
   "outputs": [],
   "source": [
    "# 5 \n",
    "import multiprocessing\n",
    "\n",
    "def square(x):\n",
    "    return x * x\n",
    "\n",
    "if __name__ == \"__main__\":\n",
    "    with multiprocessing.Pool(processes=2) as pool:\n",
    "        result = pool.map(square, [1, 2, 3, 4, 5])\n",
    "\n",
    "    print(result)\n"
   ]
  },
  {
   "cell_type": "code",
   "execution_count": null,
   "id": "fdaa5d66",
   "metadata": {},
   "outputs": [],
   "source": [
    "import multiprocessing\n",
    "\n",
    "def print_number(number):\n",
    "    print(f\"Process {number}: {number}\")\n",
    "\n",
    "if __name__ == \"__main__\":\n",
    "    # Create a pool with 4 worker processes\n",
    "    with multiprocessing.Pool(processes=4) as pool:\n",
    "        # Use the pool to apply the print_number function to each process number\n",
    "        pool.map(print_number, [1, 2, 3, 4])\n"
   ]
  },
  {
   "cell_type": "code",
   "execution_count": null,
   "id": "1d66771f",
   "metadata": {},
   "outputs": [],
   "source": []
  }
 ],
 "metadata": {
  "kernelspec": {
   "display_name": "Python 3 (ipykernel)",
   "language": "python",
   "name": "python3"
  },
  "language_info": {
   "codemirror_mode": {
    "name": "ipython",
    "version": 3
   },
   "file_extension": ".py",
   "mimetype": "text/x-python",
   "name": "python",
   "nbconvert_exporter": "python",
   "pygments_lexer": "ipython3",
   "version": "3.11.4"
  }
 },
 "nbformat": 4,
 "nbformat_minor": 5
}
